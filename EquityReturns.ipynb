{
 "cells": [
  {
   "cell_type": "code",
   "execution_count": 1,
   "metadata": {},
   "outputs": [],
   "source": [
    "import pandas as pd\n",
    "import numpy as np\n",
    "import quantstats as qs\n",
    "import matplotlib.pyplot as plt\n",
    "import yfinance as yf\n",
    "from yahoofinancials import YahooFinancials"
   ]
  },
  {
   "cell_type": "code",
   "execution_count": 11,
   "metadata": {},
   "outputs": [],
   "source": [
    "# input information here\n",
    "\n",
    "ticker = 'SPY'\n",
    "start_date = \"2000-01-01\"\n",
    "end_date = \"2021-01-01\""
   ]
  },
  {
   "cell_type": "code",
   "execution_count": 12,
   "metadata": {
    "scrolled": true
   },
   "outputs": [
    {
     "name": "stdout",
     "output_type": "stream",
     "text": [
      "[*********************100%***********************]  1 of 1 completed\n"
     ]
    },
    {
     "data": {
      "text/html": [
       "<div>\n",
       "<style scoped>\n",
       "    .dataframe tbody tr th:only-of-type {\n",
       "        vertical-align: middle;\n",
       "    }\n",
       "\n",
       "    .dataframe tbody tr th {\n",
       "        vertical-align: top;\n",
       "    }\n",
       "\n",
       "    .dataframe thead th {\n",
       "        text-align: right;\n",
       "    }\n",
       "</style>\n",
       "<table border=\"1\" class=\"dataframe\">\n",
       "  <thead>\n",
       "    <tr style=\"text-align: right;\">\n",
       "      <th></th>\n",
       "      <th>Open</th>\n",
       "      <th>High</th>\n",
       "      <th>Low</th>\n",
       "      <th>Close</th>\n",
       "      <th>Volume</th>\n",
       "    </tr>\n",
       "    <tr>\n",
       "      <th>Date</th>\n",
       "      <th></th>\n",
       "      <th></th>\n",
       "      <th></th>\n",
       "      <th></th>\n",
       "      <th></th>\n",
       "    </tr>\n",
       "  </thead>\n",
       "  <tbody>\n",
       "    <tr>\n",
       "      <th>2000-01-03</th>\n",
       "      <td>100.044041</td>\n",
       "      <td>100.044041</td>\n",
       "      <td>97.091645</td>\n",
       "      <td>98.146072</td>\n",
       "      <td>8164300</td>\n",
       "    </tr>\n",
       "    <tr>\n",
       "      <th>2000-01-04</th>\n",
       "      <td>96.859698</td>\n",
       "      <td>97.218203</td>\n",
       "      <td>94.234173</td>\n",
       "      <td>94.307983</td>\n",
       "      <td>8089800</td>\n",
       "    </tr>\n",
       "    <tr>\n",
       "      <th>2000-01-05</th>\n",
       "      <td>94.434507</td>\n",
       "      <td>95.510023</td>\n",
       "      <td>92.620893</td>\n",
       "      <td>94.476685</td>\n",
       "      <td>12177900</td>\n",
       "    </tr>\n",
       "    <tr>\n",
       "      <th>2000-01-06</th>\n",
       "      <td>94.223649</td>\n",
       "      <td>95.488962</td>\n",
       "      <td>92.958336</td>\n",
       "      <td>92.958336</td>\n",
       "      <td>6227200</td>\n",
       "    </tr>\n",
       "    <tr>\n",
       "      <th>2000-01-07</th>\n",
       "      <td>94.687580</td>\n",
       "      <td>98.356987</td>\n",
       "      <td>94.518871</td>\n",
       "      <td>98.356987</td>\n",
       "      <td>8066500</td>\n",
       "    </tr>\n",
       "  </tbody>\n",
       "</table>\n",
       "</div>"
      ],
      "text/plain": [
       "                  Open        High        Low      Close    Volume\n",
       "Date                                                              \n",
       "2000-01-03  100.044041  100.044041  97.091645  98.146072   8164300\n",
       "2000-01-04   96.859698   97.218203  94.234173  94.307983   8089800\n",
       "2000-01-05   94.434507   95.510023  92.620893  94.476685  12177900\n",
       "2000-01-06   94.223649   95.488962  92.958336  92.958336   6227200\n",
       "2000-01-07   94.687580   98.356987  94.518871  98.356987   8066500"
      ]
     },
     "execution_count": 12,
     "metadata": {},
     "output_type": "execute_result"
    }
   ],
   "source": [
    "# pull data from Yahoo Finance\n",
    "\n",
    "data = yf.download(ticker, start = start_date, end = end_date, auto_adjust = True)\n",
    "data.head()"
   ]
  },
  {
   "cell_type": "code",
   "execution_count": 13,
   "metadata": {
    "scrolled": true
   },
   "outputs": [
    {
     "name": "stdout",
     "output_type": "stream",
     "text": [
      "Equity Name: SPY\n",
      "Time Frame: 2000-01-01 to 2021-01-01 \n",
      "\n",
      "Total Return: 280.94 %\n",
      "Sharpe Ratio: 0.42\n",
      "Sortino Ratio: 0.59\n"
     ]
    }
   ],
   "source": [
    "# print returns and ratios\n",
    "\n",
    "total_return = round(((data['Close'][-1]/data['Close'][0] - 1) * 100), 2)\n",
    "sharpe = round(qs.stats.sharpe(data.Close), 2)\n",
    "sortino = round(qs.stats.sortino(data.Close), 2)\n",
    "\n",
    "print('Equity Name:', ticker)\n",
    "print('Time Frame:', start_date, 'to', end_date, '\\n')\n",
    "print('Total Return:', total_return, '%')\n",
    "print('Sharpe Ratio:', sharpe)\n",
    "print('Sortino Ratio:', sortino)"
   ]
   "source": [
    "# plot returns on graph\n",
    "\n",
    "data.plot(kind = 'line', y = 3, title = 'Returns', figsize = (20,10))",
   ]
  }
 ],
 "metadata": {
  "kernelspec": {
   "display_name": "Python 3",
   "language": "python",
   "name": "python3"
  },
  "language_info": {
   "codemirror_mode": {
    "name": "ipython",
    "version": 3
   },
   "file_extension": ".py",
   "mimetype": "text/x-python",
   "name": "python",
   "nbconvert_exporter": "python",
   "pygments_lexer": "ipython3",
   "version": "3.8.5"
  }
 },
 "nbformat": 4,
 "nbformat_minor": 4
}
