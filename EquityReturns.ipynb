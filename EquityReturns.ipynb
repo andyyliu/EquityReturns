{
 "cells": [
  {
   "cell_type": "code",
   "execution_count": 95,
   "metadata": {},
   "outputs": [],
   "source": [
    "import pandas as pd\n",
    "import numpy as np\n",
    "import quantstats as qs\n",
    "import matplotlib.pyplot as plt\n",
    "import csv\n",
    "import yfinance as yf\n",
    "from yahoofinancials import YahooFinancials"
   ]
  },
  {
   "cell_type": "code",
   "execution_count": 127,
   "metadata": {},
   "outputs": [],
   "source": [
    "# input information here\n",
    "\n",
    "ticker = 'CUK'\n",
    "start_date = \"2020-01-01\"\n",
    "end_date = \"2020-12-22\""
   ]
  },
  {
   "cell_type": "code",
   "execution_count": 128,
   "metadata": {
    "scrolled": true
   },
   "outputs": [
    {
     "name": "stdout",
     "output_type": "stream",
     "text": [
      "[*********************100%***********************]  1 of 1 completed\n"
     ]
    },
    {
     "data": {
      "text/html": [
       "<div>\n",
       "<style scoped>\n",
       "    .dataframe tbody tr th:only-of-type {\n",
       "        vertical-align: middle;\n",
       "    }\n",
       "\n",
       "    .dataframe tbody tr th {\n",
       "        vertical-align: top;\n",
       "    }\n",
       "\n",
       "    .dataframe thead th {\n",
       "        text-align: right;\n",
       "    }\n",
       "</style>\n",
       "<table border=\"1\" class=\"dataframe\">\n",
       "  <thead>\n",
       "    <tr style=\"text-align: right;\">\n",
       "      <th></th>\n",
       "      <th>Open</th>\n",
       "      <th>High</th>\n",
       "      <th>Low</th>\n",
       "      <th>Close</th>\n",
       "      <th>Volume</th>\n",
       "    </tr>\n",
       "    <tr>\n",
       "      <th>Date</th>\n",
       "      <th></th>\n",
       "      <th></th>\n",
       "      <th></th>\n",
       "      <th></th>\n",
       "      <th></th>\n",
       "    </tr>\n",
       "  </thead>\n",
       "  <tbody>\n",
       "    <tr>\n",
       "      <th>2020-01-02</th>\n",
       "      <td>47.935414</td>\n",
       "      <td>48.202107</td>\n",
       "      <td>47.530438</td>\n",
       "      <td>47.955170</td>\n",
       "      <td>321400</td>\n",
       "    </tr>\n",
       "    <tr>\n",
       "      <th>2020-01-03</th>\n",
       "      <td>46.967422</td>\n",
       "      <td>47.095830</td>\n",
       "      <td>46.374774</td>\n",
       "      <td>46.700729</td>\n",
       "      <td>252400</td>\n",
       "    </tr>\n",
       "    <tr>\n",
       "      <th>2020-01-06</th>\n",
       "      <td>46.236487</td>\n",
       "      <td>46.236487</td>\n",
       "      <td>45.308002</td>\n",
       "      <td>45.377144</td>\n",
       "      <td>390700</td>\n",
       "    </tr>\n",
       "    <tr>\n",
       "      <th>2020-01-07</th>\n",
       "      <td>45.258617</td>\n",
       "      <td>45.495679</td>\n",
       "      <td>45.070947</td>\n",
       "      <td>45.426537</td>\n",
       "      <td>307200</td>\n",
       "    </tr>\n",
       "    <tr>\n",
       "      <th>2020-01-08</th>\n",
       "      <td>45.505555</td>\n",
       "      <td>45.920411</td>\n",
       "      <td>45.377146</td>\n",
       "      <td>45.683350</td>\n",
       "      <td>174800</td>\n",
       "    </tr>\n",
       "  </tbody>\n",
       "</table>\n",
       "</div>"
      ],
      "text/plain": [
       "                 Open       High        Low      Close  Volume\n",
       "Date                                                          \n",
       "2020-01-02  47.935414  48.202107  47.530438  47.955170  321400\n",
       "2020-01-03  46.967422  47.095830  46.374774  46.700729  252400\n",
       "2020-01-06  46.236487  46.236487  45.308002  45.377144  390700\n",
       "2020-01-07  45.258617  45.495679  45.070947  45.426537  307200\n",
       "2020-01-08  45.505555  45.920411  45.377146  45.683350  174800"
      ]
     },
     "execution_count": 128,
     "metadata": {},
     "output_type": "execute_result"
    }
   ],
   "source": [
    "# pull data from Yahoo Finance\n",
    "\n",
    "data = yf.download(ticker, start = start_date, end = end_date, auto_adjust = True)\n",
    "data.head()"
   ]
  },
  {
   "cell_type": "code",
   "execution_count": 129,
   "metadata": {
    "scrolled": true
   },
   "outputs": [
    {
     "name": "stdout",
     "output_type": "stream",
     "text": [
      "CUK\n",
      "\n",
      "Total return: -62.55 %\n",
      "Sharpe ratio: -0.2\n",
      "Sortino ratio: -0.29\n"
     ]
    }
   ],
   "source": [
    "# print returns and ratios\n",
    "\n",
    "total_return = round(((data['Close'][-1]/data['Close'][0] - 1) * 100), 2)\n",
    "sharpe = round(qs.stats.sharpe(data.Close), 2)\n",
    "sortino = round(qs.stats.sortino(data.Close), 2)\n",
    "\n",
    "print(ticker + '\\n')\n",
    "print('Total return:', total_return, '%')\n",
    "print('Sharpe ratio:', sharpe)\n",
    "print('Sortino ratio:', sortino)"
   ]
  }
 ],
 "metadata": {
  "kernelspec": {
   "display_name": "Python 3",
   "language": "python",
   "name": "python3"
  },
  "language_info": {
   "codemirror_mode": {
    "name": "ipython",
    "version": 3
   },
   "file_extension": ".py",
   "mimetype": "text/x-python",
   "name": "python",
   "nbconvert_exporter": "python",
   "pygments_lexer": "ipython3",
   "version": "3.8.5"
  }
 },
 "nbformat": 4,
 "nbformat_minor": 4
}
